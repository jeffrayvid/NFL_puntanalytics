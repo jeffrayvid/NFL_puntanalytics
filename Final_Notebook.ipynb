{
 "cells": [
  {
   "cell_type": "markdown",
   "metadata": {},
   "source": [
    "Below you will find my results and recommendations for the Punt Analytics Competition.\n",
    "\n",
    "\n",
    "I was able to articulate more details, provide more visuals, and discuss pros and cons in my powerpoint presentation attached.\n",
    "\n",
    "\n",
    "The aim of this study is to analyze league punting data from 2016 and 2017, and recommend rules that will reduce concussions on punting plays while maintaining the integrity of the game.\n"
   ]
  },
  {
   "cell_type": "code",
   "execution_count": 1,
   "metadata": {},
   "outputs": [
    {
     "name": "stderr",
     "output_type": "stream",
     "text": [
      "C:\\Users\\Yofftop\\Anaconda3\\lib\\site-packages\\IPython\\core\\interactiveshell.py:2785: DtypeWarning: Columns (10) have mixed types. Specify dtype option on import or set low_memory=False.\n",
      "  interactivity=interactivity, compiler=compiler, result=result)\n"
     ]
    }
   ],
   "source": [
    "import pandas as pd\n",
    "import scipy\n",
    "import matplotlib.pyplot as plt\n",
    "import numpy as np\n",
    "\n",
    "game_data = pd.read_csv('game_data.csv')\n",
    "play_info = pd.read_csv('play_information.csv')\n",
    "play_player_role = pd.read_csv('play_player_role_data.csv')\n",
    "player_punt = pd.read_csv('player_punt_data.csv')\n",
    "injuries = pd.read_csv('video_review.csv')\n",
    "pre_2016 = pd.read_csv('NGS-2016-pre.csv')\n",
    "reg_2016_1 = pd.read_csv('NGS-2016-reg-wk1-6.csv')\n",
    "reg_2016_2 = pd.read_csv('NGS-2016-reg-wk7-12.csv')\n",
    "reg_2016_3 = pd.read_csv('NGS-2016-reg-wk13-17.csv')\n",
    "post_2016 = pd.read_csv('NGS-2016-post.csv')\n",
    "pre_2017 = pd.read_csv('NGS-2017-pre.csv')\n",
    "reg_2017_1 = pd.read_csv('NGS-2017-reg-wk1-6.csv')\n",
    "reg_2017_2 = pd.read_csv('NGS-2017-reg-wk7-12.csv')\n",
    "reg_2017_3 = pd.read_csv('NGS-2017-reg-wk13-17.csv')\n",
    "post_2017 = pd.read_csv('NGS-2017-post.csv')"
   ]
  },
  {
   "cell_type": "markdown",
   "metadata": {},
   "source": [
    "Step 1 - Assess the problem\n",
    "\n",
    "Here I am checking to see what the magnitude of the problem is, and creating a direction for the analysis"
   ]
  },
  {
   "cell_type": "code",
   "execution_count": 2,
   "metadata": {},
   "outputs": [
    {
     "name": "stdout",
     "output_type": "stream",
     "text": [
      "Number of punt plays: \n",
      "6681\n",
      "Number of concussion plays: \n",
      "37\n"
     ]
    }
   ],
   "source": [
    "punt_count = len(play_info)\n",
    "con_count = len(injuries)\n",
    "\n",
    "print(\"Number of punt plays: \")\n",
    "print(punt_count) \n",
    "print(\"Number of concussion plays: \")\n",
    "print(con_count)"
   ]
  },
  {
   "cell_type": "markdown",
   "metadata": {},
   "source": [
    "It is interesting to note that while concussions are definitely a problem, the actual number is very small (37). Making the problem even more difficult to solve. "
   ]
  },
  {
   "cell_type": "markdown",
   "metadata": {},
   "source": [
    "Within punting plays, let's investigate which are the most dangerous. To do so, we will crawl through the play description and categorize each play as a fair catch, out of bounds, touchback, return, muff, or downed."
   ]
  },
  {
   "cell_type": "code",
   "execution_count": 3,
   "metadata": {},
   "outputs": [
    {
     "name": "stdout",
     "output_type": "stream",
     "text": [
      "     Outcomes  Concussion Plays  Total Plays  Percent of Inj\n",
      "0  Fair Catch                 2         1659        0.120555\n",
      "1          OB                 0          669        0.000000\n",
      "2   Touchback                 0          407        0.000000\n",
      "3      Return                36         4488        0.802139\n",
      "4        Muff                 2          203        0.985222\n",
      "5      Downed                 3          811        0.369914\n"
     ]
    }
   ],
   "source": [
    "#Outcomes of punts\n",
    "#1- Fair Catch\n",
    "#2- Out of bounds\n",
    "#3- Touchback\n",
    "#4- Return\n",
    "#5- Muff\n",
    "#6- Downed\n",
    "\n",
    "unique_con_id = []\n",
    "\n",
    "for row in range(len(injuries)):\n",
    "    game_id = str(injuries.iloc[row,1])\n",
    "    play_id = str(injuries.iloc[row,2])\n",
    "    unique_con_id.append(game_id+play_id)\n",
    "\n",
    "fc = 0\n",
    "ob = 0\n",
    "tb = 0\n",
    "rt = 0\n",
    "mf = 0\n",
    "dn = 0\n",
    "fc_c = 0\n",
    "ob_c = 0\n",
    "tb_c = 0\n",
    "rt_c = 0\n",
    "mf_c = 0\n",
    "dn_c = 0\n",
    "\n",
    "ids = []\n",
    "rt_ids = []\n",
    "rt_con_ids = []\n",
    "\n",
    "\n",
    "for i in range(len(play_info)):\n",
    "    game_id_1 = str(play_info.iloc[i,2])\n",
    "    play_id_1 = str(play_info.iloc[i,5])\n",
    "    uni_id = game_id_1+play_id_1\n",
    "    \n",
    "    ids.append(uni_id)\n",
    "    \n",
    "    if \"fair catch\" in play_info.iloc[i,13]:\n",
    "        fc += 1\n",
    "    if \"out of bounds\" in play_info.iloc[i,13]:\n",
    "        ob += 1\n",
    "    if \"Touchback\" in play_info.iloc[i,13]:\n",
    "        tb += 1\n",
    "    if \"for\" in play_info.iloc[i,13]:\n",
    "        rt += 1\n",
    "        rt_ids.append(uni_id)\n",
    "    if \"MUFFS\" in play_info.iloc[i,13]:\n",
    "        mf += 1\n",
    "    if \"downed\" in play_info.iloc[i,13]:\n",
    "        dn += 1\n",
    "    if uni_id in unique_con_id:\n",
    "        if \"fair catch\" in play_info.iloc[i,13]:\n",
    "            fc_c += 1\n",
    "        if \"out of bounds\" in play_info.iloc[i,13]:\n",
    "            ob_c += 1\n",
    "        if \"Touchback\" in play_info.iloc[i,13]:\n",
    "            tb_c += 1\n",
    "        if \"for\" in play_info.iloc[i,13]:\n",
    "            rt_c += 1\n",
    "            rt_con_ids.append(uni_id)\n",
    "        if \"MUFFS\" in play_info.iloc[i,13]:\n",
    "            mf_c += 1\n",
    "        if \"downed\" in play_info.iloc[i,13]:\n",
    "            dn_c += 1\n",
    "\n",
    "outcomes = ['Fair Catch', 'OB', 'Touchback', 'Return', 'Muff', 'Downed']\n",
    "total_plays = [fc,ob,tb,rt,mf,dn]\n",
    "conc_plays = [fc_c,ob_c,tb_c,rt_c,mf_c,dn_c]\n",
    "\n",
    "dc = {'Outcomes': outcomes, 'Concussion Plays': conc_plays, 'Total Plays': total_plays, \n",
    "      'Percent of Inj': np.array(conc_plays)*100/np.array(total_plays)}\n",
    "df = (pd.DataFrame(dc))\n",
    "\n",
    "print(df)"
   ]
  },
  {
   "cell_type": "markdown",
   "metadata": {},
   "source": [
    "Punt plays that result in returns appear to be more dangerous than the rest"
   ]
  },
  {
   "cell_type": "markdown",
   "metadata": {},
   "source": [
    "Next I want to investiage who is most likely to suffer a concussion on a punting play"
   ]
  },
  {
   "cell_type": "code",
   "execution_count": 4,
   "metadata": {},
   "outputs": [
    {
     "data": {
      "image/png": "[encoded data removed]",
      "text/plain": [
       "<Figure size 432x288 with 1 Axes>"
      ]
     },
     "metadata": {},
     "output_type": "display_data"
    }
   ],
   "source": [
    "freq = injuries.groupby('Player_Activity_Derived').count()\n",
    "plt.bar(freq.index.values,freq.iloc[:,0])\n",
    "plt.title(\"Activity of Injured Player During Punt Returns\")\n",
    "plt.show()"
   ]
  },
  {
   "cell_type": "markdown",
   "metadata": {},
   "source": [
    "There is a fairly even distribution among the players who get injured. I was surprised to see that the returner isn't at much at risk as the blockers and tacklers.\n",
    "\n",
    "There does appear to be a high proportion of players injured who are on the punting team (blocked and tackling). It's evident that something needs to change to prevent those players from sustaining injuries."
   ]
  },
  {
   "cell_type": "markdown",
   "metadata": {},
   "source": [
    "Next I hope to investigate if there are any other factors in the dataset that are correlated with concussions. To do so, I am creating a giant correlation matrix of each play using the data in the various spreadsheets. The factors I am including are:\n",
    "\n",
    "1) Number of box defenders\n",
    "\n",
    "2) Number of outside blockers\n",
    "\n",
    "3) Number of returners \n",
    "\n",
    "4) Return yards\n",
    "\n",
    "5) Punt distance\n",
    "\n",
    "6) Punt hangtime\n",
    "\n",
    "7) Result of play (fair catch, return, out of bounds, etc.)\n",
    "\n",
    "8) Distance from center of field ball is snapped from\n",
    "\n",
    "9) Line of scrimmage (defined as distance from end zone)\n",
    "\n",
    "10) Whether there was any injury on the play or not\n",
    "\n",
    "11) Whether there was any penalty on the play or not\n",
    "\n",
    "The categorical response variable is was there a concussion on the play - yes(1) or no(0)\n",
    "\n",
    "---\n",
    "\n",
    "Many factors that are not involved in the actual play were not included, such as weather, score, indoor/outdoor, home team, away team, year, regular season/post season/pre season, etc. I chose not to include these because there is nothing actionable that can come out of including these variables in the analysis. None of them can be changed with a rule change. While I'm sure something like weather affects if there is a return or not, nothing can be done about this.\n"
   ]
  },
  {
   "cell_type": "code",
   "execution_count": 5,
   "metadata": {},
   "outputs": [
    {
     "data": {
      "text/plain": [
       "<matplotlib.axes._subplots.AxesSubplot at 0x176e4f8f390>"
      ]
     },
     "execution_count": 5,
     "metadata": {},
     "output_type": "execute_result"
    },
    {
     "data": {
      "image/png": "[encoded data removed]",
      "text/plain": [
       "<Figure size 1152x1152 with 2 Axes>"
      ]
     },
     "metadata": {},
     "output_type": "display_data"
    }
   ],
   "source": [
    "#Create unique IDs of all punt plays\n",
    "ids = []\n",
    "\n",
    "for i in range(len(play_info)):\n",
    "    game_id_1 = str(play_info.iloc[i,2])\n",
    "    play_id_1 = str(play_info.iloc[i,5])\n",
    "    uni_id = game_id_1+play_id_1    \n",
    "    ids.append(uni_id)\n",
    "\n",
    "#Part 1 - Get Formations\n",
    "\n",
    "formation = {}\n",
    "for i in ids:\n",
    "    formation[i] = []\n",
    "\n",
    "for j in range(len(play_player_role)):\n",
    "    game_id = str(play_player_role.iloc[j,1])\n",
    "    play_id = str(play_player_role.iloc[j,2])\n",
    "    uni_id = game_id+play_id\n",
    "    \n",
    "    if uni_id in ids:\n",
    "        formation[uni_id].append(play_player_role.iloc[j,4])\n",
    "\n",
    "def formation_matrix(dictionary_of_formations):\n",
    "    \n",
    "    fomration_mat = {}\n",
    "    \n",
    "    for i in dictionary_of_formations:\n",
    "        \n",
    "        fomration_mat[i] = []\n",
    "        \n",
    "        box = 0\n",
    "        OBs = 0\n",
    "        RTs = 0\n",
    "        \n",
    "        for j in dictionary_of_formations[i]:\n",
    "            #Linemen\n",
    "            if j == 'PDL2':\n",
    "                box += 1\n",
    "            elif j == 'PDR2':\n",
    "                box += 1\n",
    "            elif j == 'PDR1':\n",
    "                box += 1\n",
    "            elif j == 'PDL1':\n",
    "                box += 1\n",
    "            elif j == 'PDR4':\n",
    "                box += 1\n",
    "            elif j == 'PDL4':\n",
    "                box += 1        \n",
    "            elif j == 'PDR5':\n",
    "                box += 1\n",
    "            elif j == 'PDL5':\n",
    "                box += 1\n",
    "            elif j == 'PDL3':\n",
    "                box += 1\n",
    "            elif j == 'PDR3':\n",
    "                box += 1\n",
    "            \n",
    "            \n",
    "            #Linebackers\n",
    "            elif j == 'PLM':\n",
    "                box += 1\n",
    "            elif j == 'PLR':\n",
    "                box += 1\n",
    "            elif j == 'PLL':\n",
    "                box += 1\n",
    "            elif j == 'PLL1':\n",
    "                box += 1\n",
    "            elif j == 'PLR1':\n",
    "                box += 1\n",
    "            elif j == 'PLL2':\n",
    "                box += 1\n",
    "            elif j == 'PLR2':\n",
    "                box += 1\n",
    "            elif j == 'PLL3':\n",
    "                box += 1\n",
    "            elif j == 'PLR3':\n",
    "                box += 1\n",
    "\n",
    "            #Outsiders\n",
    "            elif j == 'VL':\n",
    "                OBs += 1\n",
    "            elif j == 'VRi':\n",
    "                OBs += 1\n",
    "            elif j == 'VRo':\n",
    "                OBs += 1\n",
    "            elif j == 'VR':\n",
    "                OBs += 1\n",
    "            elif j == 'VLi':\n",
    "                OBs += 1\n",
    "            elif j == 'VLo':\n",
    "                OBs += 1\n",
    "\n",
    "                \n",
    "            #Returnmen\n",
    "            elif j == 'PR':\n",
    "                RTs += 1\n",
    "            elif j == 'PFB':\n",
    "                RTs += 1\n",
    "            elif j == 'PFB1':\n",
    "                RTs += 1\n",
    "            elif j == 'PFB2':\n",
    "                RTs += 1\n",
    "        \n",
    "        fomration_mat[i].append(box)\n",
    "        fomration_mat[i].append(OBs)\n",
    "        fomration_mat[i].append(RTs)\n",
    "    \n",
    "    return fomration_mat\n",
    "\n",
    "THEmatrix = formation_matrix(formation)\n",
    "\n",
    "#Part 2 - Get Return Yards\n",
    "\n",
    "for i in range(len(play_info)):\n",
    "    game_id = str(play_info.iloc[i,2])\n",
    "    play_id = str(play_info.iloc[i,5])\n",
    "    pid = game_id+play_id\n",
    "    play = (str(play_info.iloc[i,-1]))\n",
    "    if \" for \" in play:\n",
    "        result = play.split(\" for \",1)[1]\n",
    "        yards = result[0:2]\n",
    "        if yards == 'no':\n",
    "            yards_ = 0\n",
    "        if yards == 'on':\n",
    "            yards = yards_  \n",
    "        if yards == 'L.':\n",
    "            yards = yards_  \n",
    "        if yards != 'no':\n",
    "            yards_ = int(yards)\n",
    "    else:\n",
    "        yards_ = 0\n",
    "    if pid in THEmatrix:\n",
    "        THEmatrix[pid].append(yards_)\n",
    "\n",
    "#Part 3 - Get Punt Dist\n",
    "\n",
    "for i in range(len(play_info)):\n",
    "    game_id = str(play_info.iloc[i,2])\n",
    "    play_id = str(play_info.iloc[i,5])\n",
    "    pid = game_id+play_id\n",
    "    play = (str(play_info.iloc[i,-1]))\n",
    "    if \" punts \" in play:\n",
    "        result = play.split(\" punts \",1)[1]\n",
    "        yards = result[0:2]\n",
    "        if yards != 'no':\n",
    "            yards_ = int(yards) \n",
    "        if pid in THEmatrix:\n",
    "            THEmatrix[pid].append(yards_)\n",
    "            \n",
    "#Part 4 - Get Hangtime\n",
    "\n",
    "def hangtime(df, start_event='punt', *stop_events):\n",
    "    \n",
    "    punt_event = df.loc[df.Event==start_event] \\\n",
    "        .groupby(['Season_Year', 'GameKey','PlayID'], as_index = False)['Time'].min()\n",
    "    punt_event.rename(columns = {'Time':'punt_time'}, inplace=True)\n",
    "    punt_event['punt_time'] = pd.to_datetime(punt_event['punt_time'],\\\n",
    "                                             format='%Y-%m-%d %H:%M:%S.%f')\n",
    "    \n",
    "    receiving_event = df.loc[df.Event.isin(stop_events)] \\\n",
    "        .groupby(['Season_Year', 'GameKey','PlayID'], as_index = False)['Time'].min()\n",
    "    receiving_event.rename(columns = {'Time':'receiving_time'}, inplace=True)\n",
    "    receiving_event['receiving_time'] = pd.to_datetime(receiving_event['receiving_time'],\\\n",
    "                                             format='%Y-%m-%d %H:%M:%S.%f')\n",
    "    \n",
    "    punt_df = punt_event.merge(receiving_event, how='inner', on = ['Season_Year','GameKey','PlayID']) \\\n",
    "                .reset_index(drop=True)\n",
    "    \n",
    "    punt_df['hang_time'] = (punt_df['receiving_time'] - punt_df['punt_time']).dt.total_seconds()\n",
    "    \n",
    "    return punt_df\n",
    "\n",
    "def add_ht_to_matrix(data):\n",
    "    for i in range(len(data)):\n",
    "        game_id = str(data.iloc[i,1])\n",
    "        play_id = str(data.iloc[i,2])\n",
    "        pid = game_id+play_id\n",
    "        \n",
    "        if pid in THEmatrix:\n",
    "            THEmatrix[pid].append(data.iloc[i,-1])\n",
    "            \n",
    "list2016 = [pre_2016, reg_2016_1, reg_2016_2, reg_2016_3, post_2016]\n",
    "list2017 = [pre_2017, reg_2017_1, reg_2017_2, reg_2017_3, post_2017]\n",
    "\n",
    "for i in list2016:\n",
    "    add_ht_to_matrix(hangtime(i, 'punt', 'punt_received', 'fair_catch', 'punt_downed', 'touchback','out_of_bounds'))\n",
    "    \n",
    "for j in list2017:\n",
    "    add_ht_to_matrix(hangtime(j, 'punt', 'punt_received', 'fair_catch', 'punt_downed', 'touchback','out_of_bounds'))\n",
    "\n",
    "#Part 5 - Get Result and add to matrix\n",
    "for i in range(len(play_info)):\n",
    "    game_id_1 = str(play_info.iloc[i,2])\n",
    "    play_id_1 = str(play_info.iloc[i,5])\n",
    "    uni_id = game_id_1+play_id_1\n",
    "        \n",
    "    if \"fair catch\" in play_info.iloc[i,13]:\n",
    "        THEmatrix[uni_id].append(1)\n",
    "    else:\n",
    "        THEmatrix[uni_id].append(0)\n",
    "    \n",
    "    if \"out of bounds\" in play_info.iloc[i,13]:\n",
    "        THEmatrix[uni_id].append(1)\n",
    "    else:\n",
    "        THEmatrix[uni_id].append(0)\n",
    "    \n",
    "    if \"Touchback\" in play_info.iloc[i,13]:\n",
    "        THEmatrix[uni_id].append(1)\n",
    "    else:\n",
    "        THEmatrix[uni_id].append(0)\n",
    "\n",
    "\n",
    "    if \" for \" in play_info.iloc[i,13]:\n",
    "        THEmatrix[uni_id].append(1)\n",
    "    else:\n",
    "        THEmatrix[uni_id].append(0)\n",
    "\n",
    "    if \"MUFFS\" in play_info.iloc[i,13]:\n",
    "        THEmatrix[uni_id].append(1)\n",
    "    else:\n",
    "        THEmatrix[uni_id].append(0)\n",
    "\n",
    "    if \"downed\" in play_info.iloc[i,13]:\n",
    "        THEmatrix[uni_id].append(1)\n",
    "    else:\n",
    "        THEmatrix[uni_id].append(0)\n",
    "    if \"PENALTY\" in play_info.iloc[i,13]:\n",
    "        THEmatrix[uni_id].append(1)\n",
    "    else:\n",
    "        THEmatrix[uni_id].append(0)\n",
    "    if \" injured \" in play_info.iloc[i,13]:\n",
    "        THEmatrix[uni_id].append(1)\n",
    "    else:\n",
    "        THEmatrix[uni_id].append(0)\n",
    "\n",
    "#Part 6 - Add y coordinate to matrix\n",
    "\n",
    "LS = player_punt['Position']=='LS'\n",
    "LS_list = list(player_punt[LS]['GSISID'])\n",
    "\n",
    "def ls_coordinates(NGSdata, matrix):\n",
    "    LS = NGSdata['GSISID'].isin(LS_list)\n",
    "    LS_matrix = NGSdata[LS]\n",
    "        \n",
    "    pid_old = ''\n",
    "    for i in range(len(LS_matrix)):\n",
    "        game_id = str(LS_matrix.iloc[i,1])\n",
    "        play_id = str(LS_matrix.iloc[i,2])\n",
    "        pid = game_id+play_id\n",
    "        y_coord = LS_matrix.iloc[i,6]\n",
    "        midfield = 53.3 / 2\n",
    "        dist_from_mid = abs(y_coord - midfield)\n",
    "        \n",
    "        if pid != pid_old:\n",
    "            if pid in matrix:\n",
    "\n",
    "                matrix[pid].append(dist_from_mid)\n",
    "\n",
    "        pid_old = pid\n",
    "\n",
    "for i in list2016:\n",
    "    ls_coordinates(i, THEmatrix)\n",
    "    \n",
    "for j in list2017:\n",
    "    ls_coordinates(j, THEmatrix)\n",
    "    \n",
    "#Part 7 - Add line of scrimmage(distance from end zone)\n",
    "\n",
    "for row in range(len(play_info)):\n",
    "    game_id = str(play_info.iloc[row,2])\n",
    "    play_id = str(play_info.iloc[row,5])\n",
    "    pid = game_id+play_id\n",
    "\n",
    "    poss = play_info.iloc[row,10]\n",
    "    ydline = int((play_info.iloc[row,7])[-2:])\n",
    "    \n",
    "    if poss in play_info.iloc[row,7]:\n",
    "        THEmatrix[pid].append(100 - ydline)\n",
    "    else:\n",
    "        THEmatrix[pid].append(ydline)\n",
    "\n",
    "#Add Concussion Y-variable to data\n",
    "\n",
    "injury_list = []\n",
    "\n",
    "for i in range(len(injuries)):\n",
    "    game_id = str(injuries.iloc[i,1])\n",
    "    play_id = str(injuries.iloc[i,2])\n",
    "    pid = game_id+play_id\n",
    "    injury_list.append(pid)\n",
    "\n",
    "for j in THEmatrix:\n",
    "    if j in injury_list:\n",
    "        THEmatrix[j].append(1)\n",
    "    else:\n",
    "        THEmatrix[j].append(0)\n",
    "        \n",
    "#Create matrix of dictionary THEmatrix\n",
    "\n",
    "playid_mat = []\n",
    "box_mat = []\n",
    "out_mat = []\n",
    "RT_mat = []\n",
    "ret_yds_mat = []\n",
    "punt_yds_mat = []\n",
    "ht_mat = []\n",
    "fc_mat = []\n",
    "ob_mat = []\n",
    "tb_mat = []\n",
    "rt_mat = []\n",
    "mf_mat = []\n",
    "dn_mat = []\n",
    "pen_mat = []\n",
    "inj_mat = []\n",
    "cen_mat = []\n",
    "los_mat = []\n",
    "con_mat = []\n",
    "\n",
    "for i in THEmatrix:\n",
    "    if len(THEmatrix[i]) == 17:\n",
    "        playid_mat.append(i)\n",
    "        box_mat.append(THEmatrix[i][0])\n",
    "        out_mat.append(THEmatrix[i][1])\n",
    "        RT_mat.append(THEmatrix[i][2])\n",
    "        ret_yds_mat.append(THEmatrix[i][3])\n",
    "        punt_yds_mat.append(THEmatrix[i][4])\n",
    "        ht_mat.append(THEmatrix[i][5])\n",
    "        fc_mat.append(THEmatrix[i][6])\n",
    "        ob_mat.append(THEmatrix[i][7])\n",
    "        tb_mat.append(THEmatrix[i][8])\n",
    "        rt_mat.append(THEmatrix[i][9])\n",
    "        mf_mat.append(THEmatrix[i][10])\n",
    "        dn_mat.append(THEmatrix[i][11])\n",
    "        pen_mat.append(THEmatrix[i][12])\n",
    "        inj_mat.append(THEmatrix[i][13])\n",
    "        cen_mat.append(THEmatrix[i][14])\n",
    "        los_mat.append(THEmatrix[i][15])\n",
    "        con_mat.append(THEmatrix[i][16])\n",
    "\n",
    "d = {'PlayID': playid_mat,\n",
    "    'Box D': box_mat,\n",
    "    'Outside D': out_mat,\n",
    "    'Return D': RT_mat,\n",
    "    'Return Yds': ret_yds_mat,\n",
    "    'Punt Dist': punt_yds_mat,\n",
    "    'Hangtime': ht_mat,\n",
    "    'Dist From Center': cen_mat,\n",
    "    'Distance From End Zone': los_mat,\n",
    "    'Fair Catch': fc_mat,\n",
    "    'Out Of Bounds': ob_mat,\n",
    "    'Touchback': tb_mat,\n",
    "    'Return': rt_mat,\n",
    "    'Penalty': pen_mat,\n",
    "    'Injury': inj_mat,\n",
    "    'Muff': mf_mat,\n",
    "    'Downed': dn_mat,\n",
    "    'Concussion': con_mat}\n",
    "\n",
    "df = pd.DataFrame(data=d)\n",
    "\n",
    "import seaborn as sns\n",
    "\n",
    "corr = df.corr()\n",
    "f, ax = plt.subplots(figsize = (16,16))\n",
    "ax.matshow(corr)\n",
    "sns.heatmap(corr, mask=np.zeros_like(corr, dtype=np.bool), cmap=sns.diverging_palette(220, 10, as_cmap=True),\n",
    "            square=True, ax=ax)\n",
    "\n"
   ]
  },
  {
   "cell_type": "markdown",
   "metadata": {},
   "source": [
    "There are a few observations that are important to note from the correlation matrix:\n",
    "\n",
    "1) None of the features I've identified are positive or negatively correlated with concussions. This isn't overly surprising, as there are few observations with concussions. What this tells me is that concussions are more or less random occurances and can occur on any play.\n",
    "\n",
    "2) Second, I looked at 'Return' because we saw earlier that concussions are more likely to happen on returns than any other play. There are a couple of key insights here:\n",
    "\n",
    "a. A punt is more likely to be returned if there are fewer defenders in the box and more defenders on the outside.\n",
    "\n",
    "b. A punt is more likely to be returned if it is a longer punt. Return yards are also positively correlated with punt distance.\n",
    "\n",
    "c. A punt is less likely to be returned if there is more hangtime.\n",
    "\n",
    "3) Box defenders are and outside defenders are highly correlated (negative). This means that the amount of returners is generally constant."
   ]
  },
  {
   "cell_type": "markdown",
   "metadata": {},
   "source": [
    "The first rule I chose to investigate is the amount of outside defenders the receiving team is allowed to have. What happened if we made it constant at 2"
   ]
  },
  {
   "cell_type": "code",
   "execution_count": 17,
   "metadata": {},
   "outputs": [
    {
     "name": "stdout",
     "output_type": "stream",
     "text": [
      "           Fair Catch    Injury  Punt Dist    Return\n",
      "Outside D                                           \n",
      "0            0.185185  0.018519  42.259259  0.388889\n",
      "1            0.236842  0.026316  43.605263  0.421053\n",
      "2            0.341792  0.011591  43.988722  0.302945\n",
      "3            0.197232  0.012687  47.442907  0.570934\n",
      "4            0.146437  0.017228  47.228661  0.654659\n",
      "5            0.000000  0.000000  49.500000  0.500000\n"
     ]
    }
   ],
   "source": [
    "pivot = pd.pivot_table(df, values=['Fair Catch', 'Return', 'Injury', 'Punt Dist'], index=['Outside D'],\n",
    "                   aggfunc={'Fair Catch': np.mean,\n",
    "                           'Return': np.mean,\n",
    "                            'Injury': np.mean,\n",
    "                            'Punt Dist': np.mean\n",
    "                           })\n",
    "\n",
    "print(pivot)"
   ]
  },
  {
   "cell_type": "markdown",
   "metadata": {},
   "source": [
    "When there are 2 outside defenders there are more fair catches and fewer returns than when there are 3 and 4 outside returners. Punts are also shorter Next, I did some modeling to see what the potential impact of changing all returns to the 8-2-1 formation. "
   ]
  },
  {
   "cell_type": "markdown",
   "metadata": {},
   "source": [
    "In the first model, I created a linear regression model to preidct punt distance. Then I set all formations to 8-2-1 and predicted the punt distance of these formations based on the regression formula.\n",
    "\n",
    "The factors used for this model were - defensive formation, yard line, distance from center of the field."
   ]
  },
  {
   "cell_type": "code",
   "execution_count": 18,
   "metadata": {},
   "outputs": [
    {
     "name": "stdout",
     "output_type": "stream",
     "text": [
      "Old Punt Dist: 45.58154676830237\n",
      "New Punt Dist: 45.36983565904945\n"
     ]
    }
   ],
   "source": [
    "from sklearn.linear_model import LinearRegression\n",
    "\n",
    "#defender analysis\n",
    "\n",
    "#Change Box Defenders\n",
    "new_box = [8] * len(df)\n",
    "new_out = [2] * len(df)\n",
    "new_back = [1] * len(df)\n",
    "\n",
    "df['new_box'] = new_box\n",
    "df['new_out'] = new_out\n",
    "df['new_back'] = new_back\n",
    "\n",
    "#Predict Impact on punt distance\n",
    "X = df.iloc[:,[1,2,3,7,8]]\n",
    "Y = df.iloc[:,[5]]\n",
    "\n",
    "X_new = df.iloc[:,[18,19,20,7,8]]\n",
    "\n",
    "reg = LinearRegression().fit(X, Y)\n",
    "\n",
    "new_punt = reg.predict(X_new)\n",
    "\n",
    "print(\"Old Punt Dist: \" +str(np.mean(np.array(Y))))\n",
    "\n",
    "print(\"New Punt Dist: \" +str(np.mean(new_punt)))"
   ]
  },
  {
   "cell_type": "markdown",
   "metadata": {},
   "source": [
    "Next, given the projected punt distances of the new formation I created a Random Forest model to predict whether a punt would be returned or not given the formation, yard line, distance from cetner, and punt distance. The model was trained on the old data and applied to the new dataset (8-2-1 formation, new punt distances)."
   ]
  },
  {
   "cell_type": "code",
   "execution_count": 19,
   "metadata": {},
   "outputs": [
    {
     "name": "stderr",
     "output_type": "stream",
     "text": [
      "C:\\Users\\Yofftop\\Anaconda3\\lib\\site-packages\\ipykernel_launcher.py:13: DataConversionWarning: A column-vector y was passed when a 1d array was expected. Please change the shape of y to (n_samples,), for example using ravel().\n",
      "  del sys.path[0]\n"
     ]
    },
    {
     "name": "stdout",
     "output_type": "stream",
     "text": [
      "Old RT Avg: 0.4495791646815944\n",
      "New RT Avg: 0.28870890900428775\n"
     ]
    }
   ],
   "source": [
    "#predict returns catches\n",
    "\n",
    "from sklearn.ensemble import RandomForestClassifier\n",
    "\n",
    "df['Punt dist_new'] = new_punt\n",
    "\n",
    "X = df.iloc[:,[1,2,3,5,7,8]]\n",
    "Y = df.iloc[:,[12]]\n",
    "\n",
    "X_new = df.iloc[:,[18,19,20,21,7,8]]\n",
    "\n",
    "clf = RandomForestClassifier(n_estimators=50)\n",
    "clf.fit(X, Y)\n",
    "pred = (clf.predict(X_new))\n",
    "\n",
    "print(\"Old RT Avg: \" +str(np.mean(np.array(Y))))\n",
    "\n",
    "print(\"New RT Avg: \" +str(np.mean(pred)))"
   ]
  },
  {
   "cell_type": "markdown",
   "metadata": {},
   "source": [
    "Eureka! The implementation of this new rule would result in fewer returns.\n",
    "\n",
    "Lastly, we'll see if there is a major impact on concussions. The factors used in this dataset are formation, yard line, distance from cetner, punt distance, and whether there was a return."
   ]
  },
  {
   "cell_type": "code",
   "execution_count": 33,
   "metadata": {},
   "outputs": [
    {
     "name": "stderr",
     "output_type": "stream",
     "text": [
      "C:\\Users\\Yofftop\\Anaconda3\\lib\\site-packages\\ipykernel_launcher.py:11: DataConversionWarning: A column-vector y was passed when a 1d array was expected. Please change the shape of y to (n_samples,), for example using ravel().\n",
      "  # This is added back by InteractiveShellApp.init_path()\n"
     ]
    },
    {
     "name": "stdout",
     "output_type": "stream",
     "text": [
      "Old Concussion Rate: 0.005558202318564396\n",
      "New Concussion Rate: 0.0\n"
     ]
    }
   ],
   "source": [
    "#predict concussions\n",
    "\n",
    "df['Return_new'] = pred\n",
    "\n",
    "X = df.iloc[:,[1,2,3,5,7,8,12]]\n",
    "Y = df.iloc[:,[17]]\n",
    "\n",
    "X_new = df.iloc[:,[18,19,20,21,7,8,22]]\n",
    "\n",
    "clf = RandomForestClassifier(n_estimators=50)\n",
    "clf.fit(X, Y)\n",
    "pred = (clf.predict(X_new))\n",
    "\n",
    "print(\"Old Concussion Rate: \" +str(np.mean(np.array(Y))))\n",
    "\n",
    "print(\"New Concussion Rate: \" +str(np.mean(pred)))"
   ]
  },
  {
   "cell_type": "markdown",
   "metadata": {},
   "source": [
    "We see a very significant reduction in concussions here! However, because of the nature of the dataset, it would be best to rebalance the data using SMOTE. This will make it easier to predict instances in the minority class. "
   ]
  },
  {
   "cell_type": "code",
   "execution_count": 49,
   "metadata": {},
   "outputs": [
    {
     "name": "stdout",
     "output_type": "stream",
     "text": [
      "Original dataset shape Counter({'Concussion': 1})\n",
      "Resampled dataset shape Counter({0: 6262, 1: 6262})\n"
     ]
    },
    {
     "name": "stderr",
     "output_type": "stream",
     "text": [
      "C:\\Users\\Yofftop\\Anaconda3\\lib\\site-packages\\sklearn\\utils\\validation.py:761: DataConversionWarning: A column-vector y was passed when a 1d array was expected. Please change the shape of y to (n_samples, ), for example using ravel().\n",
      "  y = column_or_1d(y, warn=True)\n",
      "C:\\Users\\Yofftop\\Anaconda3\\lib\\site-packages\\sklearn\\ensemble\\forest.py:246: FutureWarning: The default value of n_estimators will change from 10 in version 0.20 to 100 in 0.22.\n",
      "  \"10 in version 0.20 to 100 in 0.22.\", FutureWarning)\n"
     ]
    },
    {
     "name": "stdout",
     "output_type": "stream",
     "text": [
      "Learning Accuracy\n",
      "0.9877594465141033\n",
      "\n",
      "Scores\n",
      "              precision    recall  f1-score   support\n",
      "\n",
      "           0       0.99      0.98      0.99      1920\n",
      "           1       0.98      0.99      0.99      1838\n",
      "\n",
      "   micro avg       0.99      0.99      0.99      3758\n",
      "   macro avg       0.99      0.99      0.99      3758\n",
      "weighted avg       0.99      0.99      0.99      3758\n",
      "\n",
      "Old Concussion Rate: 0.5\n",
      "New Concussion Rate: 0.10883104439476206\n"
     ]
    }
   ],
   "source": [
    "from collections import Counter\n",
    "from imblearn.over_sampling import SMOTE\n",
    "from sklearn.model_selection import train_test_split\n",
    "from sklearn import metrics\n",
    "\n",
    "\n",
    "print('Original dataset shape %s' % Counter(Y))\n",
    "\n",
    "x2 = df.iloc[:,[1,2,3,5,7,8,12,18,19,20,21,22]]\n",
    "y2 = df.iloc[:,[17]]\n",
    "\n",
    "sm = SMOTE(random_state=42)\n",
    "\n",
    "X_res, y_res = sm.fit_resample(x2, y2)\n",
    "\n",
    "print('Resampled dataset shape %s' % Counter(y_res))\n",
    "\n",
    "df_x = pd.DataFrame(X_res)\n",
    "\n",
    "x_train = df_x.iloc[:,[0,1,2,3,4,5,6]]\n",
    "x_test = df_x.iloc[:,[7,8,9,10,4,5,6]]\n",
    "\n",
    "\n",
    "training_data, test_data, training_data_label, test_data_label = train_test_split(x_train, y_res, test_size = .3, random_state = 42)\n",
    "\n",
    "clf = RandomForestClassifier()\n",
    "clf = clf.fit(training_data, training_data_label)\n",
    "\n",
    "predictions = clf.predict(test_data)\n",
    "\n",
    "learning_accuracy = clf.score(test_data, test_data_label)\n",
    "\n",
    "print(\"Learning Accuracy\")\n",
    "print(learning_accuracy)\n",
    "print()\n",
    "print(\"Scores\")\n",
    "print(metrics.classification_report(predictions, test_data_label))\n",
    "\n",
    "\n",
    "clf = RandomForestClassifier(n_estimators=50)\n",
    "clf.fit(x_train, y_res)\n",
    "pred = (clf.predict(x_test))\n",
    "\n",
    "print(\"Old Concussion Rate: \" +str(np.mean(np.array(y_res))))\n",
    "\n",
    "print(\"New Concussion Rate: \" +str(np.mean(pred)))"
   ]
  },
  {
   "cell_type": "markdown",
   "metadata": {},
   "source": [
    "After rebalancing the dataset, I ran a proper train-test study to check the accuracy of the new model. We see a very high learning accuracy!\n",
    "\n",
    "When applying the Random Forest model to the new dataset, we see a 78% reduction in concussions."
   ]
  },
  {
   "cell_type": "markdown",
   "metadata": {},
   "source": [
    "Next, using linear regression I want to check the impact on average punt return distance. While I suspect there will be fewer return yards, I'm curious if there will be more big plays. "
   ]
  },
  {
   "cell_type": "code",
   "execution_count": 53,
   "metadata": {},
   "outputs": [
    {
     "name": "stdout",
     "output_type": "stream",
     "text": [
      "Old Ret Dist: 4.4074956328410355\n",
      "New Ret Dist: 4.0777294981272085\n"
     ]
    }
   ],
   "source": [
    "#predict return averages\n",
    "\n",
    "from sklearn.linear_model import LinearRegression\n",
    "\n",
    "#Predict Impact on return distance\n",
    "\n",
    "X = df.iloc[:,[1,2,3,5,7,8,10]]\n",
    "Y = df.iloc[:,[4]]\n",
    "\n",
    "X_new = df.iloc[:,[18,19,20,21,7,8,22]]\n",
    "\n",
    "reg = LinearRegression().fit(X, Y)\n",
    "\n",
    "new_ret = reg.predict(X_new)\n",
    "\n",
    "print(\"Old Ret Dist: \" +str(np.mean(np.array(Y))))\n",
    "\n",
    "print(\"New Ret Dist: \" +str(np.mean(new_ret)))"
   ]
  },
  {
   "cell_type": "markdown",
   "metadata": {},
   "source": [
    "We see slightly less yards per return using the new rules. \n",
    "\n",
    "Linear regression has a hard time predicting outliers (big returns), so instead I will take a look at some of the plays and make observations on potential return distance based on field spacing. This should be interpreted as more of an observation than a science as I've only looked at a handful of plays. In the examples below, I've isolated 2 similar plays. Both punts started from around the 25 and were 45-50 yard punts that were returned."
   ]
  },
  {
   "cell_type": "markdown",
   "metadata": {},
   "source": [
    "Play 1 is a 7-3-1 formation. The first visual shows the players on the field when the punt happens. The second visual shows the players on the field when the punt is received.\n",
    "\n",
    "\n",
    "It is interesting to note the lack of spacing on the field in visual 2. This play ended up as a 10 yard gain, which makes sense given where all the players are positioned on the field."
   ]
  },
  {
   "cell_type": "code",
   "execution_count": 54,
   "metadata": {},
   "outputs": [
    {
     "data": {
      "image/png": "[encoded data removed]",
      "text/plain": [
       "<Figure size 432x288 with 1 Axes>"
      ]
     },
     "metadata": {},
     "output_type": "display_data"
    }
   ],
   "source": [
    "def visualize_players(game_id, play_id, action, matrix):\n",
    "    punt_game = matrix.loc[matrix.GameKey==game_id]\n",
    "    punt_play = punt_game.loc[punt_game.PlayID==play_id]\n",
    "    action = punt_play.loc[punt_play.Event==action]\n",
    "    \n",
    "    plt.scatter(action.x,action.y)\n",
    "\n",
    "visualize_players(192,2801,'punt',reg_2016_2)"
   ]
  },
  {
   "cell_type": "code",
   "execution_count": 55,
   "metadata": {},
   "outputs": [
    {
     "data": {
      "image/png": "[encoded data removed]",
      "text/plain": [
       "<Figure size 432x288 with 1 Axes>"
      ]
     },
     "metadata": {},
     "output_type": "display_data"
    }
   ],
   "source": [
    "visualize_players(192,2801,'punt_received',reg_2016_2)"
   ]
  },
  {
   "cell_type": "markdown",
   "metadata": {},
   "source": [
    "Play 2 is a 8-2-1 formation. The first visual shows the players on the field when the punt happens. The second visual shows the players on the field when the punt is received.\n",
    "\n",
    "\n",
    "It is interesting to note the increased spacing on the field in visual 2. This play ended up as a 27 yard gain. This is because he was able to make the initial defenders miss and find open space afterward for the big gain.\n",
    "\n",
    "This is a common trend amongst returns in the 8-2-1 formation."
   ]
  },
  {
   "cell_type": "code",
   "execution_count": 71,
   "metadata": {},
   "outputs": [
    {
     "data": {
      "image/png": "[encoded data removed]",
      "text/plain": [
       "<Figure size 432x288 with 1 Axes>"
      ]
     },
     "metadata": {},
     "output_type": "display_data"
    }
   ],
   "source": [
    "visualize_players(582,3079,'punt',reg_2017_3)"
   ]
  },
  {
   "cell_type": "code",
   "execution_count": 72,
   "metadata": {},
   "outputs": [
    {
     "data": {
      "image/png": "[encoded data removed]",
      "text/plain": [
       "<Figure size 432x288 with 1 Axes>"
      ]
     },
     "metadata": {},
     "output_type": "display_data"
    }
   ],
   "source": [
    "visualize_players(582,3079,'punt_received',reg_2017_3)"
   ]
  },
  {
   "cell_type": "markdown",
   "metadata": {},
   "source": [
    "The following analyses were potential rules that I looked into but did not have sufficient enough evidence to include in my final recommendations"
   ]
  },
  {
   "cell_type": "markdown",
   "metadata": {},
   "source": [
    "#1 - Investigating whether 'gunners' are at more risk than other positions. If so, there could be potential to remove that position or modify it in some way."
   ]
  },
  {
   "cell_type": "code",
   "execution_count": 59,
   "metadata": {},
   "outputs": [
    {
     "data": {
      "image/png": "[encoded data removed]",
      "text/plain": [
       "<Figure size 432x288 with 1 Axes>"
      ]
     },
     "metadata": {},
     "output_type": "display_data"
    }
   ],
   "source": [
    "injured_players = pd.merge(injuries, play_player_role, on=['GSISID','PlayID','GameKey'])\n",
    "\n",
    "def get_positions(lst):\n",
    "    PRW = 0\n",
    "    PDL2 = 0\n",
    "    PRG = 0\n",
    "    PLS = 0 \n",
    "    PLW = 0\n",
    "    P = 0\n",
    "    PLM = 0\n",
    "    PLG = 0\n",
    "    GL = 0\n",
    "    VL = 0\n",
    "    PFB = 0\n",
    "    PRT = 0\n",
    "    PLT = 0\n",
    "    GR = 0\n",
    "    PPL = 0\n",
    "    VRi = 0\n",
    "    PDR2 = 0\n",
    "    PDR1 = 0\n",
    "    VRo = 0\n",
    "    PR = 0\n",
    "    PDL1 = 0\n",
    "    PDR3 = 0\n",
    "    PLR = 0\n",
    "    PDR4 = 0\n",
    "    PPR = 0\n",
    "    VR = 0\n",
    "    VLi = 0\n",
    "    PDR5 = 0\n",
    "    PLL1 = 0\n",
    "    PDL3 = 0\n",
    "    PLL2 = 0\n",
    "    PLR2 = 0\n",
    "    PLL = 0\n",
    "    VLo = 0\n",
    "    PLR1 = 0\n",
    "    PDL4 = 0\n",
    "\n",
    "    for j in lst:\n",
    "        if j == 'PRW':\n",
    "            PRW += 1\n",
    "        elif j == 'PDL2':\n",
    "            PDL2 += 1\n",
    "        elif j == 'PRG':\n",
    "            PRG += 1\n",
    "        elif j == 'PLS':\n",
    "            PLS += 1\n",
    "        elif j == 'PLW':\n",
    "            PLW += 1\n",
    "        elif j == 'P':\n",
    "            P += 1\n",
    "        elif j == 'PLM':\n",
    "            PLM += 1\n",
    "        elif j == 'PLG':\n",
    "            PLG += 1\n",
    "        elif j == 'GL':\n",
    "            GL += 1\n",
    "        elif j == 'VL':\n",
    "            VL += 1\n",
    "        elif j == 'PFB':\n",
    "            PFB += 1\n",
    "        elif j == 'PRT':\n",
    "            PRT += 1\n",
    "        elif j == 'PLT':\n",
    "            PLT += 1\n",
    "        elif j == 'GR':\n",
    "            GR += 1\n",
    "        elif j == 'PPL':\n",
    "            PPL += 1\n",
    "        elif j == 'VRi':\n",
    "            VRi += 1\n",
    "        elif j == 'PDR2':\n",
    "            PDR2 += 1\n",
    "        elif j == 'PDR1':\n",
    "            PDR1 += 1\n",
    "        elif j == 'VRo':\n",
    "            VRo += 1\n",
    "        elif j == 'PR':\n",
    "            PR += 1\n",
    "        elif j == 'PDL1':\n",
    "            PDL1 += 1\n",
    "        elif j == 'PLR':\n",
    "            PLR += 1\n",
    "        elif j == 'PDR4':\n",
    "            PDR4 += 1\n",
    "        elif j == 'PPR':\n",
    "            PPR += 1\n",
    "        elif j == 'VR':\n",
    "            VR += 1\n",
    "        elif j == 'VLi':\n",
    "            VLi += 1\n",
    "        elif j == 'PDR5':\n",
    "            PDR5 += 1\n",
    "        elif j == 'PLL1':\n",
    "            PLL1 += 1\n",
    "        elif j == 'PDL3':\n",
    "            PDL3 += 1\n",
    "        elif j == 'PLL3':\n",
    "            PLL2 += 1\n",
    "        elif j == 'PLR2':\n",
    "            PLR2 += 1\n",
    "        elif j == 'PLL':\n",
    "            PLL += 1\n",
    "        elif j == 'VLo':\n",
    "            VLo += 1\n",
    "        elif j == 'PLR1':\n",
    "            PLR1 += 1\n",
    "        elif j == 'PDL4':\n",
    "            PDL4 += 1        \n",
    "\n",
    "    p_gunners = (GL + GR)\n",
    "    p_linemen = (PLT+PLG+PLS+PRG+PRT)\n",
    "    p_wings = (PLW+PRW)\n",
    "    p_protect = (PPR+PPL)\n",
    "    p_punter = (P)\n",
    "    r_outside = (VRo+VRi+VR+VLo+VLi+VL)\n",
    "    r_linemen = (PDR3+PDR2+PDR1+PDR4+PDR5+PDL3+PDL2+PDL1+PDL4)\n",
    "    r_lbs = (PLR+PLR1+PLR2+PLL+PLL1+PLL2+PLM)\n",
    "    r_ret = PR\n",
    "    \n",
    "    tot = [p_gunners,p_linemen,p_wings,p_protect,p_punter,r_outside,r_linemen,r_lbs,r_ret]\n",
    "    positions = ['Punt_Gunners', 'Punt_Linemen','Punt_Wings','Punt_Protect','Punter','Return_Outside','Return_Linemen','Return_LBs','Returner']\n",
    "    \n",
    "    plt.bar(positions,tot)\n",
    "    plt.xticks(rotation=90)\n",
    "get_positions(injured_players.iloc[:,-1])"
   ]
  },
  {
   "cell_type": "markdown",
   "metadata": {},
   "source": [
    "Only 5 gunners have been concussed, which does not appear to be big enough to make an impact. The reducting in returns coming from the 8-2-1 rule will help reduce concussions of gunners, without a significant change to that position."
   ]
  },
  {
   "cell_type": "markdown",
   "metadata": {},
   "source": [
    "#2 - Checking the impact of the ball originating on the hash marks versus the middle of the field. The hypothesis here was that if the punt is on the hash mark, a punter is more likely to punt out of bounds (a safer play) versus punt to the middle of the field. In the correlation matrix above where the ball is on the field along the y-axis doesn't have any relationship with if the punt goes out of bounds or not. "
   ]
  },
  {
   "cell_type": "markdown",
   "metadata": {},
   "source": [
    "#3 - Implementing the same touchback rule that was implemented on the kickoff (25 yard line)"
   ]
  },
  {
   "cell_type": "code",
   "execution_count": 62,
   "metadata": {},
   "outputs": [
    {
     "name": "stdout",
     "output_type": "stream",
     "text": [
      "5.5% of punts in coffin corner situations (punts on the plus side of the field) were returned\n"
     ]
    },
    {
     "name": "stderr",
     "output_type": "stream",
     "text": [
      "C:\\Users\\Yofftop\\Anaconda3\\lib\\site-packages\\ipykernel_launcher.py:49: SettingWithCopyWarning: \n",
      "A value is trying to be set on a copy of a slice from a DataFrame.\n",
      "Try using .loc[row_indexer,col_indexer] = value instead\n",
      "\n",
      "See the caveats in the documentation: http://pandas.pydata.org/pandas-docs/stable/indexing.html#indexing-view-versus-copy\n"
     ]
    }
   ],
   "source": [
    "import numpy as np\n",
    "\n",
    "distfromendzone = []\n",
    "puntdist = []\n",
    "retdist = []\n",
    "descr = []\n",
    "\n",
    "for row in range(len(play_info)):\n",
    "    poss = play_info.iloc[row,10]\n",
    "    ydline = int((play_info.iloc[row,7])[-2:])\n",
    "    play = (str(play_info.iloc[row,-1]))\n",
    "    \n",
    "    if poss in play_info.iloc[row,7]:\n",
    "        distfromendzone.append(100 - ydline)\n",
    "    else:\n",
    "        distfromendzone.append(ydline)\n",
    "\n",
    "    if \" punts \" in play:\n",
    "        result = play.split(\" punts \",1)[1]\n",
    "        yards = result[0:2]\n",
    "        if yards != 'no':\n",
    "            puntdist.append(int(yards))\n",
    "    else:\n",
    "        puntdist.append('NA')\n",
    "    \n",
    "    if \" for \" in play:\n",
    "        result = play.split(\" for \",1)[1]\n",
    "        yards = result[0:2]\n",
    "        if yards == 'no':\n",
    "            yards_ = 0\n",
    "        if yards == 'on':\n",
    "            yards = yards_  \n",
    "        if yards == 'L.':\n",
    "            yards = yards_  \n",
    "        if yards != 'no':\n",
    "            yards_ = int(yards)\n",
    "    else:\n",
    "        yards_ = 0\n",
    "    \n",
    "    retdist.append(yards_)\n",
    "    descr.append(play)\n",
    "\n",
    "D = {'Yard Line': distfromendzone, 'Punt Distance': puntdist, 'Return Distance': retdist, 'Description': descr}\n",
    "df = pd.DataFrame(data=D)\n",
    "notna = df['Punt Distance']!='NA'\n",
    "\n",
    "df2 = df[notna]\n",
    "\n",
    "df2['Landed'] = np.array(df2['Yard Line']) - np.array(df2['Punt Distance'])\n",
    "\n",
    "close = df2['Yard Line']>0\n",
    "df3 = df2[close]\n",
    "\n",
    "close_2 = df2['Yard Line']<50\n",
    "df4 = df3[close_2]\n",
    "\n",
    "fc = 0\n",
    "ob = 0\n",
    "tb = 0\n",
    "rt = 0\n",
    "mf = 0\n",
    "dn = 0\n",
    "\n",
    "for i in range(len(df4)):\n",
    "    \n",
    "    if \"fair catch\" in df4.iloc[i,3]:\n",
    "        fc += 1\n",
    "    if \"out of bounds\" in df4.iloc[i,3]:\n",
    "        ob += 1\n",
    "    if \"Touchback\" in df4.iloc[i,3]:\n",
    "        tb += 1\n",
    "    if \" for \" in df4.iloc[i,3]:\n",
    "        rt += 1\n",
    "    if \"MUFFS\" in df4.iloc[i,3]:\n",
    "        mf += 1\n",
    "    if \"downed\" in df4.iloc[i,3]:\n",
    "        dn += 1\n",
    "\n",
    "outcomes = ['Fair Catch', 'OB', 'Touchback', 'Return', 'Muff', 'Downed']\n",
    "total_plays = [fc,ob,tb,rt,mf,dn]\n",
    "\n",
    "dc = {'Outcomes': outcomes, 'Total Plays': total_plays}\n",
    "df50 = (pd.DataFrame(dc))\n",
    "\n",
    "print(str(round(rt/len(df4),4)*100)+\"% of punts in coffin corner situations (punts on the plus side of the field) were returned\")"
   ]
  },
  {
   "cell_type": "markdown",
   "metadata": {},
   "source": [
    "The general rule of thumb is that returners are told not to field a punt inside the 10 because there is a good chance it will bounce into the end zone for a touch back. Only 5% of the time do they actually do this. Changing the touchback and further incentivizing not fielding the punt would have minimal affect on the big picture. "
   ]
  }
 ],
 "metadata": {
  "kernelspec": {
   "display_name": "Python 3",
   "language": "python",
   "name": "python3"
  },
  "language_info": {
   "codemirror_mode": {
    "name": "ipython",
    "version": 3
   },
   "file_extension": ".py",
   "mimetype": "text/x-python",
   "name": "python",
   "nbconvert_exporter": "python",
   "pygments_lexer": "ipython3",
   "version": "3.6.5"
  }
 },
 "nbformat": 4,
 "nbformat_minor": 2
}
